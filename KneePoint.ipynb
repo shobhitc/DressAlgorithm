{
 "cells": [
  {
   "cell_type": "code",
   "execution_count": 17,
   "metadata": {},
   "outputs": [
    {
     "name": "stdout",
     "output_type": "stream",
     "text": [
      "Sample Data\n",
      "   a  b\n",
      "0  1  3\n",
      "1  3  7\n",
      "2  9  8\n",
      "3  2  1\n",
      "4  4  8\n",
      "              a         b\n",
      "count  5.000000  5.000000\n",
      "mean   3.800000  5.400000\n",
      "std    3.114482  3.209361\n",
      "min    1.000000  1.000000\n",
      "25%    2.000000  3.000000\n",
      "50%    3.000000  7.000000\n",
      "75%    4.000000  8.000000\n",
      "max    9.000000  8.000000\n"
     ]
    }
   ],
   "source": [
    "import numpy as np\n",
    "import numpy.matlib\n",
    "import matplotlib.pyplot as plt\n",
    "import pandas as pd\n",
    "#from IPython.core.interactiveshell import InteractiveShell\n",
    "#InteractiveShell.ast_node_interactivity = \"all\"\n",
    "\n",
    "# if you are reading from a local file, replace with following line\n",
    "# df = pd.read_csv('dataseries.csv')\n",
    "df = pd.DataFrame({'a': [1,3,9,2,4], 'b': [3,7,8,1,8]})\n",
    "\n",
    "print(\"Sample Data\" )\n",
    "print(df.head())\n",
    "print(df.describe())"
   ]
  },
  {
   "cell_type": "code",
   "execution_count": 23,
   "metadata": {},
   "outputs": [
    {
     "name": "stdout",
     "output_type": "stream",
     "text": [
      "allCoord 0 and 1\n",
      "[[ 2  3]\n",
      " [ 4  5]\n",
      " [ 3  7]\n",
      " [ 8 10]\n",
      " [ 3  4]]\n",
      "[3 4]\n",
      "Knee of the curve is at index = 2\n",
      "Knee value = 9\n"
     ]
    }
   ],
   "source": [
    "# pull out the list from pandas frame\n",
    "#values=list(df['a'])\n",
    "#test=df.tolist()\n",
    "\n",
    "#get coordinates of all the points\n",
    "#nPoints = len(values)\n",
    "#print(values)\n",
    "#allCoord = np.vstack((range(nPoints), values)).T\n",
    "allCoord[0]=[2,3]\n",
    "allCoord[1]=[4,5]\n",
    "allCoord[2]=[3,7]\n",
    "allCoord[3]=[8,10]\n",
    "allCoord[4]=[3,4]\n",
    "#np.array([range(nPoints), values])\n",
    "print(\"allCoord 0 and 1\")\n",
    "print(allCoord)\n",
    "print(allCoord[-1])\n",
    "# get the first point\n",
    "firstPoint = allCoord[0]\n",
    "# get vector between first and last point - this is the line\n",
    "lineVec = allCoord[-1] - allCoord[0]\n",
    "lineVecNorm = lineVec / np.sqrt(np.sum(lineVec**2))\n",
    "\n",
    "# find the distance from each point to the line:\n",
    "# vector between all points and first point\n",
    "vecFromFirst = allCoord - firstPoint\n",
    "\n",
    "# To calculate the distance to the line, we split vecFromFirst into two \n",
    "# components, one that is parallel to the line and one that is perpendicular \n",
    "# Then, we take the norm of the part that is perpendicular to the line and \n",
    "# get the distance.\n",
    "# We find the vector parallel to the line by projecting vecFromFirst onto \n",
    "# the line. The perpendicular vector is vecFromFirst - vecFromFirstParallel\n",
    "# We project vecFromFirst by taking the scalar product of the vector with \n",
    "# the unit vector that points in the direction of the line (this gives us \n",
    "# the length of the projection of vecFromFirst onto the line). If we \n",
    "# multiply the scalar product by the unit vector, we have vecFromFirstParallel\n",
    "scalarProduct = np.sum(vecFromFirst * np.matlib.repmat(lineVecNorm, nPoints, 1), axis=1)\n",
    "vecFromFirstParallel = np.outer(scalarProduct, lineVecNorm)\n",
    "vecToLine = vecFromFirst - vecFromFirstParallel\n",
    "\n",
    "# distance to line is the norm of vecToLine\n",
    "distToLine = np.sqrt(np.sum(vecToLine ** 2, axis=1))\n",
    "\n",
    "# knee/elbow is the point with max distance value\n",
    "idxOfBestPoint = np.argmax(distToLine)\n",
    "\n",
    "print(\"Knee of the curve is at index =\",idxOfBestPoint)\n",
    "print(\"Knee value =\", values[idxOfBestPoint])"
   ]
  },
  {
   "cell_type": "code",
   "execution_count": 24,
   "metadata": {},
   "outputs": [
    {
     "data": {
      "image/png": "[encoded data removed]",
      "text/plain": [
       "<matplotlib.figure.Figure at 0x939b7f0>"
      ]
     },
     "metadata": {},
     "output_type": "display_data"
    }
   ],
   "source": [
    "# plot of the original curve and its corresponding distances\n",
    "plt.figure(figsize=(12,6))\n",
    "plt.plot(distToLine,label='Distances',color='r')\n",
    "plt.plot(values,label='Series',color='b')\n",
    "plt.plot([idxOfBestPoint], values[idxOfBestPoint], marker='o', markersize=8, color=\"red\", label='Knee')\n",
    "plt.legend()\n",
    "plt.show()"
   ]
  },
  {
   "cell_type": "code",
   "execution_count": 28,
   "metadata": {},
   "outputs": [
    {
     "ename": "ValueError",
     "evalue": "x values must be sorted",
     "output_type": "error",
     "traceback": [
      "\u001b[1;31m---------------------------------------------------------------------------\u001b[0m",
      "\u001b[1;31mValueError\u001b[0m                                Traceback (most recent call last)",
      "\u001b[1;32m<ipython-input-28-d5b8e296e8f9>\u001b[0m in \u001b[0;36m<module>\u001b[1;34m()\u001b[0m\n\u001b[0;32m      2\u001b[0m \u001b[0mx\u001b[0m\u001b[1;33m=\u001b[0m\u001b[0mpd\u001b[0m\u001b[1;33m.\u001b[0m\u001b[0mDataFrame\u001b[0m\u001b[1;33m(\u001b[0m\u001b[1;33m{\u001b[0m\u001b[1;34m'a'\u001b[0m\u001b[1;33m:\u001b[0m \u001b[1;33m[\u001b[0m\u001b[1;36m1\u001b[0m\u001b[1;33m,\u001b[0m\u001b[1;36m3\u001b[0m\u001b[1;33m,\u001b[0m\u001b[1;36m9\u001b[0m\u001b[1;33m,\u001b[0m\u001b[1;36m2\u001b[0m\u001b[1;33m,\u001b[0m\u001b[1;36m4\u001b[0m\u001b[1;33m]\u001b[0m\u001b[1;33m,\u001b[0m \u001b[1;34m'b'\u001b[0m\u001b[1;33m:\u001b[0m \u001b[1;33m[\u001b[0m\u001b[1;36m3\u001b[0m\u001b[1;33m,\u001b[0m\u001b[1;36m7\u001b[0m\u001b[1;33m,\u001b[0m\u001b[1;36m8\u001b[0m\u001b[1;33m,\u001b[0m\u001b[1;36m1\u001b[0m\u001b[1;33m,\u001b[0m\u001b[1;36m8\u001b[0m\u001b[1;33m]\u001b[0m\u001b[1;33m}\u001b[0m\u001b[1;33m)\u001b[0m\u001b[1;33m\u001b[0m\u001b[0m\n\u001b[0;32m      3\u001b[0m \u001b[0my\u001b[0m\u001b[1;33m=\u001b[0m\u001b[1;33m[\u001b[0m\u001b[1;33m-\u001b[0m\u001b[1;36m5.\u001b[0m \u001b[1;33m,\u001b[0m \u001b[1;36m0.26315789\u001b[0m\u001b[1;33m,\u001b[0m \u001b[1;36m1.89655172\u001b[0m\u001b[1;33m,\u001b[0m \u001b[1;36m2.69230769\u001b[0m\u001b[1;33m,\u001b[0m \u001b[1;36m3.16326531\u001b[0m\u001b[1;33m,\u001b[0m \u001b[1;36m3.47457627\u001b[0m\u001b[1;33m,\u001b[0m \u001b[1;36m3.69565217\u001b[0m\u001b[1;33m,\u001b[0m \u001b[1;36m3.86075949\u001b[0m\u001b[1;33m,\u001b[0m \u001b[1;36m3.98876404\u001b[0m\u001b[1;33m,\u001b[0m \u001b[1;36m4.09090909\u001b[0m\u001b[1;33m]\u001b[0m\u001b[1;33m\u001b[0m\u001b[0m\n\u001b[1;32m----> 4\u001b[1;33m \u001b[0mkneedle\u001b[0m \u001b[1;33m=\u001b[0m \u001b[0mKneeLocator\u001b[0m\u001b[1;33m(\u001b[0m\u001b[0mx\u001b[0m\u001b[1;33m,\u001b[0m \u001b[0my\u001b[0m\u001b[1;33m,\u001b[0m \u001b[0mS\u001b[0m\u001b[1;33m=\u001b[0m\u001b[1;36m1.0\u001b[0m\u001b[1;33m,\u001b[0m \u001b[0minvert\u001b[0m\u001b[1;33m=\u001b[0m\u001b[1;32mFalse\u001b[0m\u001b[1;33m)\u001b[0m\u001b[1;33m\u001b[0m\u001b[0m\n\u001b[0m\u001b[0;32m      5\u001b[0m \u001b[0mprint\u001b[0m\u001b[1;33m(\u001b[0m\u001b[0mkneedle\u001b[0m\u001b[1;33m.\u001b[0m\u001b[0mknee\u001b[0m\u001b[1;33m)\u001b[0m\u001b[1;33m\u001b[0m\u001b[0m\n",
      "\u001b[1;32m~\\Anaconda3\\lib\\site-packages\\kneed\\knee_locator.py\u001b[0m in \u001b[0;36m__init__\u001b[1;34m(self, x, y, S, invert, direction)\u001b[0m\n\u001b[0;32m     26\u001b[0m \u001b[1;33m\u001b[0m\u001b[0m\n\u001b[0;32m     27\u001b[0m         \u001b[1;32mif\u001b[0m \u001b[1;32mnot\u001b[0m \u001b[0mnp\u001b[0m\u001b[1;33m.\u001b[0m\u001b[0marray_equal\u001b[0m\u001b[1;33m(\u001b[0m\u001b[0mnp\u001b[0m\u001b[1;33m.\u001b[0m\u001b[0marray\u001b[0m\u001b[1;33m(\u001b[0m\u001b[0mself\u001b[0m\u001b[1;33m.\u001b[0m\u001b[0mx\u001b[0m\u001b[1;33m)\u001b[0m\u001b[1;33m,\u001b[0m \u001b[0mnp\u001b[0m\u001b[1;33m.\u001b[0m\u001b[0msort\u001b[0m\u001b[1;33m(\u001b[0m\u001b[0mself\u001b[0m\u001b[1;33m.\u001b[0m\u001b[0mx\u001b[0m\u001b[1;33m)\u001b[0m\u001b[1;33m)\u001b[0m\u001b[1;33m:\u001b[0m\u001b[1;33m\u001b[0m\u001b[0m\n\u001b[1;32m---> 28\u001b[1;33m             \u001b[1;32mraise\u001b[0m \u001b[0mValueError\u001b[0m\u001b[1;33m(\u001b[0m\u001b[1;34m'x values must be sorted'\u001b[0m\u001b[1;33m)\u001b[0m\u001b[1;33m\u001b[0m\u001b[0m\n\u001b[0m\u001b[0;32m     29\u001b[0m \u001b[1;33m\u001b[0m\u001b[0m\n\u001b[0;32m     30\u001b[0m         \u001b[1;31m# parameters\u001b[0m\u001b[1;33m\u001b[0m\u001b[1;33m\u001b[0m\u001b[0m\n",
      "\u001b[1;31mValueError\u001b[0m: x values must be sorted"
     ]
    }
   ],
   "source": [
    "from kneed import DataGenerator, KneeLocator\n",
    "x=pd.DataFrame({'a': [1,3,9,2,4], 'b': [3,7,8,1,8]})\n",
    "y=[-5. , 0.26315789, 1.89655172, 2.69230769, 3.16326531, 3.47457627, 3.69565217, 3.86075949, 3.98876404, 4.09090909]\n",
    "kneedle = KneeLocator(x, y, S=1.0, invert=False)\n",
    "print(kneedle.knee)"
   ]
  },
  {
   "cell_type": "code",
   "execution_count": null,
   "metadata": {},
   "outputs": [],
   "source": []
  }
 ],
 "metadata": {
  "kernelspec": {
   "display_name": "Python 3",
   "language": "python",
   "name": "python3"
  },
  "language_info": {
   "codemirror_mode": {
    "name": "ipython",
    "version": 3
   },
   "file_extension": ".py",
   "mimetype": "text/x-python",
   "name": "python",
   "nbconvert_exporter": "python",
   "pygments_lexer": "ipython3",
   "version": "3.6.4"
  }
 },
 "nbformat": 4,
 "nbformat_minor": 2
}
